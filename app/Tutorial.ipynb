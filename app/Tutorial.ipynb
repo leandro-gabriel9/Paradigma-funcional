{
  "nbformat": 4,
  "nbformat_minor": 0,
  "metadata": {
    "colab": {
      "provenance": [],
      "include_colab_link": true
    },
    "kernelspec": {
      "name": "python3",
      "display_name": "Python 3"
    },
    "language_info": {
      "name": "python"
    }
  },
  "cells": [
    {
      "cell_type": "markdown",
      "metadata": {
        "id": "view-in-github",
        "colab_type": "text"
      },
      "source": [
        "<a href=\"https://colab.research.google.com/github/leandro-gabriel9/Paradigma-funcional/blob/main/app/Tutorial.ipynb\" target=\"_parent\"><img src=\"https://colab.research.google.com/assets/colab-badge.svg\" alt=\"Open In Colab\"/></a>"
      ]
    },
    {
      "cell_type": "markdown",
      "source": [
        "# Paradigma Funcional en Python\n",
        "**Trabajo Práctico – Programación I**  \n",
        "**Universidad Patagonia Argentina**  \n",
        "**Integrantes:** Leandro y Vania  \n",
        "**Lenguaje utilizado:** Python  \n",
        "\n",
        "\n"
      ],
      "metadata": {
        "id": "6dKaZv9ogFxM"
      }
    },
    {
      "cell_type": "markdown",
      "source": [
        "#Funciones puras"
      ],
      "metadata": {
        "id": "nUhKieDkjZuf"
      }
    },
    {
      "cell_type": "code",
      "execution_count": null,
      "metadata": {
        "id": "D0gnw7PPcb0z"
      },
      "outputs": [],
      "source": [
        "import ipywidgets as widgets\n",
        "from IPython.display import display\n",
        "\n",
        "a = widgets.IntSlider(value=3, min=0, max=10, description='a')\n",
        "b = widgets.IntSlider(value=4, min=0, max=10, description='b')\n",
        "\n",
        "def suma_pura(a, b):\n",
        "    return a + b\n",
        "\n",
        "def mostrar_suma(a, b):\n",
        "    print(f\"Suma pura: {a} + {b} = {suma_pura(a, b)}\")\n",
        "\n",
        "widgets.interact(mostrar_suma, a=a, b=b)\n"
      ]
    },
    {
      "cell_type": "markdown",
      "source": [
        "#Qué observar:\n",
        "\n",
        "* La función no depende de variables externas.\n",
        "\n",
        "* Siempre da el mismo resultado para los mismos inputs.\n",
        "\n",
        "* No modifica nada fuera de su ámbito."
      ],
      "metadata": {
        "id": "zU8rBkGImApn"
      }
    }
  ]
}