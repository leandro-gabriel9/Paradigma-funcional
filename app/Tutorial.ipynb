{
  "nbformat": 4,
  "nbformat_minor": 0,
  "metadata": {
    "colab": {
      "provenance": [],
      "include_colab_link": true
    },
    "kernelspec": {
      "name": "python3",
      "display_name": "Python 3"
    },
    "language_info": {
      "name": "python"
    }
  },
  "cells": [
    {
      "cell_type": "markdown",
      "metadata": {
        "id": "view-in-github",
        "colab_type": "text"
      },
      "source": [
        "<a href=\"https://colab.research.google.com/github/leandro-gabriel9/Paradigma-funcional/blob/main/app/Tutorial.ipynb\" target=\"_parent\"><img src=\"https://colab.research.google.com/assets/colab-badge.svg\" alt=\"Open In Colab\"/></a>"
      ]
    },
    {
      "cell_type": "markdown",
      "source": [
        "# Paradigma Funcional en Python\n",
        "**Trabajo Práctico – Programación I**  \n",
        "**Universidad Patagonia Argentina**  \n",
        "**Integrantes:** Leandro y Vania  \n",
        "**Lenguaje utilizado:** Python  \n",
        "\n",
        "\n"
      ],
      "metadata": {
        "id": "6dKaZv9ogFxM"
      }
    },
    {
      "cell_type": "markdown",
      "source": [
        "#Funciones puras"
      ],
      "metadata": {
        "id": "nUhKieDkjZuf"
      }
    },
    {
      "cell_type": "code",
      "execution_count": null,
      "metadata": {
        "id": "D0gnw7PPcb0z"
      },
      "outputs": [],
      "source": [
        "import ipywidgets as widgets\n",
        "from IPython.display import display\n",
        "\n",
        "a = widgets.IntSlider(value=3, min=0, max=10, description='a')\n",
        "b = widgets.IntSlider(value=4, min=0, max=10, description='b')\n",
        "\n",
        "def suma_pura(a, b):\n",
        "    return a + b\n",
        "\n",
        "def mostrar_suma(a, b):\n",
        "    print(f\"Suma pura: {a} + {b} = {suma_pura(a, b)}\")\n",
        "\n",
        "widgets.interact(mostrar_suma, a=a, b=b)\n"
      ]
    },
    {
      "cell_type": "markdown",
      "source": [
        "#Qué observar:\n",
        "\n",
        "* La función no depende de variables externas.\n",
        "\n",
        "* Siempre da el mismo resultado para los mismos inputs.\n",
        "\n",
        "* No modifica nada fuera de su ámbito."
      ],
      "metadata": {
        "id": "zU8rBkGImApn"
      }
    },
    {
      "cell_type": "markdown",
      "source": [
        "#"
      ],
      "metadata": {
        "id": "r5fzfOgZvSoV"
      }
    },
    {
      "cell_type": "markdown",
      "source": [
        "#Inmutabilidad"
      ],
      "metadata": {
        "id": "3peAhqHwvTbk"
      }
    },
    {
      "cell_type": "code",
      "source": [
        "import ipywidgets as widgets\n",
        "from IPython.display import display, Markdown\n",
        "\n",
        "# Opciones: tipo de estructura\n",
        "tipo = widgets.Dropdown(\n",
        "    options=['Lista (mutable)', 'Tupla (inmutable)', 'String (inmutable)'],\n",
        "    value='Lista (mutable)',\n",
        "    description='Tipo:',\n",
        "    style={'description_width': 'initial'}\n",
        ")\n",
        "\n",
        "# Valor inicial\n",
        "valor = widgets.IntSlider(value=3, min=0, max=10, description='Valor a agregar:')\n",
        "\n",
        "def demostrar_inmutabilidad(tipo, valor):\n",
        "    if tipo == 'Lista (mutable)':\n",
        "        original = [1, 2, 3]\n",
        "        modificada = original\n",
        "        modificada.append(valor)\n",
        "        display(Markdown(f\"**Original:** {original[:-1]} → **Modificada:** {modificada}\"))\n",
        "        print(\"⚠️ Ambas variables apuntan a la misma lista. Se modificó el objeto original.\")\n",
        "\n",
        "    elif tipo == 'Tupla (inmutable)':\n",
        "        original = (1, 2, 3)\n",
        "        modificada = original + (valor,)\n",
        "        display(Markdown(f\"**Original:** {original} → **Modificada:** {modificada}\"))\n",
        "        print(\"✅ Las tuplas no se pueden modificar. Se creó una nueva tupla.\")\n",
        "\n",
        "    elif tipo == 'String (inmutable)':\n",
        "        original = \"abc\"\n",
        "        modificada = original + str(valor)\n",
        "        display(Markdown(f\"**Original:** '{original}' → **Modificada:** '{modificada}'\"))\n",
        "        print(\"✅ Los strings son inmutables. Se creó una nueva cadena.\")\n",
        "\n",
        "widgets.interact(demostrar_inmutabilidad, tipo=tipo, valor=valor)"
      ],
      "metadata": {
        "id": "OG3kIgC-v3L1"
      },
      "execution_count": null,
      "outputs": []
    },
    {
      "cell_type": "markdown",
      "source": [
        "**Qué observar:**\n",
        "- Las listas son mutables: modificar una variable puede afectar a otras que apuntan al mismo objeto.\n",
        "- Las tuplas y los strings son inmutables: cualquier \"modificación\" genera un nuevo objeto.\n",
        "- La inmutabilidad evita efectos colaterales y facilita el diseño de funciones puras.\n"
      ],
      "metadata": {
        "id": "8YBNTHEEwcC1"
      }
    }
  ]
}