{
  "nbformat": 4,
  "nbformat_minor": 0,
  "metadata": {
    "colab": {
      "provenance": []
    },
    "kernelspec": {
      "name": "python3",
      "display_name": "Python 3"
    },
    "language_info": {
      "name": "python"
    }
  },
  "cells": [
    {
      "cell_type": "code",
      "execution_count": 1,
      "metadata": {
        "colab": {
          "base_uri": "https://localhost:8080/"
        },
        "id": "D0gnw7PPcb0z",
        "outputId": "53f641b8-18e5-4131-d2fb-03059cf6d452"
      },
      "outputs": [
        {
          "output_type": "stream",
          "name": "stdout",
          "text": [
            "¡Bienvenidos al tutorial interactivo!\n"
          ]
        }
      ],
      "source": [
        "# Paradigma Funcional en Python\n",
        "# Trabajo Práctico - Programación I\n",
        "print(\"¡Bienvenidos al tutorial interactivo!\")"
      ]
    }
  ]
}