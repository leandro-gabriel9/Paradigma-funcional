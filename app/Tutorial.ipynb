{
  "nbformat": 4,
  "nbformat_minor": 0,
  "metadata": {
    "colab": {
      "provenance": []
    },
    "kernelspec": {
      "name": "python3",
      "display_name": "Python 3"
    },
    "language_info": {
      "name": "python"
    }
  },
  "cells": [
    {
      "cell_type": "code",
      "execution_count": 2,
      "metadata": {
        "colab": {
          "base_uri": "https://localhost:8080/"
        },
        "id": "D0gnw7PPcb0z",
        "outputId": "a730a664-2399-4500-fb90-2d156e9dd6e3"
      },
      "outputs": [
        {
          "output_type": "stream",
          "name": "stdout",
          "text": [
            "¡Bienvenidos al tutorial interactivo!\n"
          ]
        }
      ],
      "source": [
        "# Paradigma Funcional en Python\n",
        "# Trabajo Práctico - Programación I\n",
        "print(\"¡Bienvenidos al tutorial interactivo!\")"
      ]
    }
  ]
}