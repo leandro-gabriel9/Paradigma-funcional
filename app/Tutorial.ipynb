{
  "nbformat": 4,
  "nbformat_minor": 0,
  "metadata": {
    "colab": {
      "provenance": [],
      "include_colab_link": true
    },
    "kernelspec": {
      "name": "python3",
      "display_name": "Python 3"
    },
    "language_info": {
      "name": "python"
    }
  },
  "cells": [
    {
      "cell_type": "markdown",
      "metadata": {
        "id": "view-in-github",
        "colab_type": "text"
      },
      "source": [
        "<a href=\"https://colab.research.google.com/github/leandro-gabriel9/Paradigma-funcional/blob/main/app/Tutorial.ipynb\" target=\"_parent\"><img src=\"https://colab.research.google.com/assets/colab-badge.svg\" alt=\"Open In Colab\"/></a>"
      ]
    },
    {
      "cell_type": "code",
      "execution_count": 1,
      "metadata": {
        "colab": {
          "base_uri": "https://localhost:8080/"
        },
        "id": "D0gnw7PPcb0z",
        "outputId": "f1fe7648-ff1c-4807-d083-d61bfb843daa"
      },
      "outputs": [
        {
          "output_type": "stream",
          "name": "stdout",
          "text": [
            "¡Bienvenidos al tutorial interactivo!\n",
            "Ahora si, cambio realizado\n"
          ]
        }
      ],
      "source": [
        "# Paradigma Funcional en Python\n",
        "# Trabajo Práctico - Programación I\n",
        "print(\"¡Bienvenidos al tutorial interactivo!\")\n",
        "print(\"Ahora si, cambio realizado\")"
      ]
    }
  ]
}